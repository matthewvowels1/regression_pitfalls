{
 "cells": [
  {
   "cell_type": "code",
   "execution_count": 43,
   "metadata": {},
   "outputs": [],
   "source": [
    "# Simple example taken from Kalainathan, D. (2019):\n",
    "# Generative neural networks to infer causal mechanisms: Algorithms and applications (pp. 9)\n",
    "\n",
    "import numpy as np\n",
    "import matplotlib.pyplot as plt\n",
    "import statsmodels.api as sm"
   ]
  },
  {
   "cell_type": "code",
   "execution_count": 44,
   "metadata": {},
   "outputs": [
    {
     "name": "stdout",
     "output_type": "stream",
     "text": [
      "(10000, 1) (10000, 1) (10000, 1)\n"
     ]
    }
   ],
   "source": [
    "N = 10000\n",
    "X = np.random.randn(N,1)\n",
    "Ey = np.random.randn(N,1)\n",
    "Ez = np.random.randn(N,1)\n",
    "\n",
    "Y = 0.5*X + Ey\n",
    "Z = Y + Ez\n",
    "print(X.shape, Y.shape, Z.shape)"
   ]
  },
  {
   "cell_type": "code",
   "execution_count": 45,
   "metadata": {
    "scrolled": true
   },
   "outputs": [
    {
     "name": "stdout",
     "output_type": "stream",
     "text": [
      "                            OLS Regression Results                            \n",
      "==============================================================================\n",
      "Dep. Variable:                      y   R-squared:                       0.201\n",
      "Model:                            OLS   Adj. R-squared:                  0.201\n",
      "Method:                 Least Squares   F-statistic:                     2514.\n",
      "Date:                Sun, 02 Feb 2020   Prob (F-statistic):               0.00\n",
      "Time:                        12:53:22   Log-Likelihood:                -14032.\n",
      "No. Observations:               10000   AIC:                         2.807e+04\n",
      "Df Residuals:                    9999   BIC:                         2.807e+04\n",
      "Df Model:                           1                                         \n",
      "Covariance Type:            nonrobust                                         \n",
      "==============================================================================\n",
      "                 coef    std err          t      P>|t|      [0.025      0.975]\n",
      "------------------------------------------------------------------------------\n",
      "x1             0.4933      0.010     50.139      0.000       0.474       0.513\n",
      "==============================================================================\n",
      "Omnibus:                        1.337   Durbin-Watson:                   1.978\n",
      "Prob(Omnibus):                  0.512   Jarque-Bera (JB):                1.342\n",
      "Skew:                          -0.003   Prob(JB):                        0.511\n",
      "Kurtosis:                       2.944   Cond. No.                         1.00\n",
      "==============================================================================\n",
      "\n",
      "Warnings:\n",
      "[1] Standard Errors assume that the covariance matrix of the errors is correctly specified.\n"
     ]
    }
   ],
   "source": [
    "# FIRST, the TRUE model: Y <- X. Note the R-squared and NLL!\n",
    "predictors = X\n",
    "outcome = Y\n",
    "# predictors = sm.add_constant(predictors)\n",
    "reg = sm.OLS(outcome, predictors)\n",
    "model = reg.fit()\n",
    "coefficients = model.params\n",
    "\n",
    "print(model.summary())"
   ]
  },
  {
   "cell_type": "code",
   "execution_count": 47,
   "metadata": {},
   "outputs": [
    {
     "name": "stdout",
     "output_type": "stream",
     "text": [
      "                            OLS Regression Results                            \n",
      "==============================================================================\n",
      "Dep. Variable:                      y   R-squared:                       0.591\n",
      "Model:                            OLS   Adj. R-squared:                  0.591\n",
      "Method:                 Least Squares   F-statistic:                     7225.\n",
      "Date:                Sun, 02 Feb 2020   Prob (F-statistic):               0.00\n",
      "Time:                        12:53:33   Log-Likelihood:                -10682.\n",
      "No. Observations:               10000   AIC:                         2.137e+04\n",
      "Df Residuals:                    9998   BIC:                         2.138e+04\n",
      "Df Model:                           2                                         \n",
      "Covariance Type:            nonrobust                                         \n",
      "==============================================================================\n",
      "                 coef    std err          t      P>|t|      [0.025      0.975]\n",
      "------------------------------------------------------------------------------\n",
      "x1             0.2492      0.007     33.364      0.000       0.235       0.264\n",
      "x2             0.4846      0.005     97.665      0.000       0.475       0.494\n",
      "==============================================================================\n",
      "Omnibus:                        0.743   Durbin-Watson:                   2.010\n",
      "Prob(Omnibus):                  0.690   Jarque-Bera (JB):                0.706\n",
      "Skew:                          -0.011   Prob(JB):                        0.703\n",
      "Kurtosis:                       3.035   Cond. No.                         1.72\n",
      "==============================================================================\n",
      "\n",
      "Warnings:\n",
      "[1] Standard Errors assume that the covariance matrix of the errors is correctly specified.\n"
     ]
    }
   ],
   "source": [
    "# SECOND, the WRONG model: Y <- X, Z. Note the R-squared increased and NLL decreased!\n",
    "\n",
    "predictors = np.concatenate((X,Z),1)\n",
    "outcome = Y\n",
    "# predictors = sm.add_constant(predictors)\n",
    "reg = sm.OLS(outcome, predictors)\n",
    "model = reg.fit()\n",
    "coefficients = model.params\n",
    "\n",
    "print(model.summary())"
   ]
  },
  {
   "cell_type": "code",
   "execution_count": null,
   "metadata": {
    "collapsed": true
   },
   "outputs": [],
   "source": []
  }
 ],
 "metadata": {
  "kernelspec": {
   "display_name": "Python 3",
   "language": "python",
   "name": "python3"
  },
  "language_info": {
   "codemirror_mode": {
    "name": "ipython",
    "version": 3
   },
   "file_extension": ".py",
   "mimetype": "text/x-python",
   "name": "python",
   "nbconvert_exporter": "python",
   "pygments_lexer": "ipython3",
   "version": "3.6.3"
  }
 },
 "nbformat": 4,
 "nbformat_minor": 2
}
