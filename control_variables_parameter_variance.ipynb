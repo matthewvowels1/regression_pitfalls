{
 "cells": [
  {
   "cell_type": "code",
   "execution_count": 1,
   "metadata": {},
   "outputs": [],
   "source": [
    "import numpy as np\n",
    "from sklearn.linear_model import LinearRegression\n",
    "import matplotlib.pyplot as plt"
   ]
  },
  {
   "cell_type": "code",
   "execution_count": 7,
   "metadata": {},
   "outputs": [],
   "source": [
    "\n",
    "X_coef_no_controls = []\n",
    "X_coef_w_controls = []\n",
    "\n",
    "for i in range(2000):\n",
    "    n = 20000\n",
    "\n",
    "    X = np.random.randn(n, 1)\n",
    "    A = np.random.randn(n, 1) \n",
    "    B = np.random.randn(n, 1) \n",
    "    C = np.random.randn(n, 1) \n",
    "    D = np.random.randn(n, 1) \n",
    "\n",
    "    Y = X + A + B + C + D + np.random.randn(n, 1)\n",
    "\n",
    "    X_inp = X\n",
    "\n",
    "    reg = LinearRegression().fit(X_inp, Y)\n",
    "    X_coef_no_controls.append(reg.coef_[0][0])\n",
    "    \n",
    "    X_inp = np.concatenate((X, A, B, C, D), 1)\n",
    "    reg = LinearRegression().fit(X_inp, Y)\n",
    "    X_coef_w_controls.append(reg.coef_[0][0])\n",
    "    \n",
    "    \n",
    "    \n",
    "X_coef_no_controls = np.asarray(X_coef_no_controls)\n",
    "X_coef_w_controls = np.asarray(X_coef_w_controls)"
   ]
  },
  {
   "cell_type": "code",
   "execution_count": 8,
   "metadata": {},
   "outputs": [
    {
     "data": {
      "image/png": "[encoded data removed]",
      "text/plain": [
       "<Figure size 432x288 with 1 Axes>"
      ]
     },
     "metadata": {
      "needs_background": "light"
     },
     "output_type": "display_data"
    }
   ],
   "source": [
    "plt.hist(X_coef_no_controls, bins=20, alpha=0.5, color='b')\n",
    "plt.hist(X_coef_w_controls, bins=20, alpha=0.5, color='r')\n",
    "plt.xlim(0.9, 1.1)\n",
    "plt.show()"
   ]
  },
  {
   "cell_type": "code",
   "execution_count": 9,
   "metadata": {},
   "outputs": [],
   "source": [
    "X_coef_no_controls = []\n",
    "X_coef_w_controls = []\n",
    "\n",
    "for i in range(2000):\n",
    "    n = 200\n",
    "\n",
    "    X = np.random.randn(n, 1)\n",
    "    A = np.random.randn(n, 1) \n",
    "    B = np.random.randn(n, 1) \n",
    "    C = np.random.randn(n, 1) \n",
    "    D = np.random.randn(n, 1) \n",
    "\n",
    "    Y = X + A + B + C + D + np.random.randn(n, 1)\n",
    "\n",
    "    X_inp = X\n",
    "\n",
    "    reg = LinearRegression().fit(X_inp, Y)\n",
    "    X_coef_no_controls.append(reg.coef_[0][0])\n",
    "    \n",
    "    X_inp = np.concatenate((X, A, B, C, D), 1)\n",
    "    reg = LinearRegression().fit(X_inp, Y)\n",
    "    X_coef_w_controls.append(reg.coef_[0][0])\n",
    "    \n",
    "    \n",
    "    \n",
    "X_coef_no_controls = np.asarray(X_coef_no_controls)\n",
    "X_coef_w_controls = np.asarray(X_coef_w_controls)"
   ]
  },
  {
   "cell_type": "code",
   "execution_count": 11,
   "metadata": {},
   "outputs": [
    {
     "data": {
      "image/png": "[encoded data removed]",
      "text/plain": [
       "<Figure size 432x288 with 1 Axes>"
      ]
     },
     "metadata": {
      "needs_background": "light"
     },
     "output_type": "display_data"
    }
   ],
   "source": [
    "plt.hist(X_coef_no_controls, bins=20, alpha=0.5, color='b')\n",
    "plt.hist(X_coef_w_controls, bins=20, alpha=0.5, color='r')\n",
    "plt.xlim(0.5, 1.5)\n",
    "plt.show()"
   ]
  },
  {
   "cell_type": "code",
   "execution_count": null,
   "metadata": {},
   "outputs": [],
   "source": []
  },
  {
   "cell_type": "code",
   "execution_count": null,
   "metadata": {},
   "outputs": [],
   "source": []
  },
  {
   "cell_type": "code",
   "execution_count": null,
   "metadata": {},
   "outputs": [],
   "source": []
  },
  {
   "cell_type": "code",
   "execution_count": null,
   "metadata": {},
   "outputs": [],
   "source": []
  },
  {
   "cell_type": "code",
   "execution_count": null,
   "metadata": {},
   "outputs": [],
   "source": []
  },
  {
   "cell_type": "code",
   "execution_count": null,
   "metadata": {},
   "outputs": [],
   "source": []
  },
  {
   "cell_type": "code",
   "execution_count": null,
   "metadata": {},
   "outputs": [],
   "source": []
  },
  {
   "cell_type": "code",
   "execution_count": null,
   "metadata": {},
   "outputs": [],
   "source": []
  }
 ],
 "metadata": {
  "kernelspec": {
   "display_name": "Python 3",
   "language": "python",
   "name": "python3"
  },
  "language_info": {
   "codemirror_mode": {
    "name": "ipython",
    "version": 3
   },
   "file_extension": ".py",
   "mimetype": "text/x-python",
   "name": "python",
   "nbconvert_exporter": "python",
   "pygments_lexer": "ipython3",
   "version": "3.6.5"
  }
 },
 "nbformat": 4,
 "nbformat_minor": 2
}
